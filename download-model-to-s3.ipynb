{
 "cells": [
  {
   "cell_type": "markdown",
   "metadata": {
    "tags": []
   },
   "source": [
    "# Download and Save the Model\n",
    "\n",
    "To save this model so that you can use it from various locations, including other notebooks or the model server, upload it to s3-compatible storage."
   ]
  },
  {
   "cell_type": "code",
   "execution_count": 1,
   "metadata": {
    "tags": []
   },
   "outputs": [
    {
     "name": "stdout",
     "output_type": "stream",
     "text": [
      "Requirement already satisfied: boto3 in /opt/app-root/lib/python3.9/site-packages (1.28.83)\n",
      "Requirement already satisfied: botocore in /opt/app-root/lib/python3.9/site-packages (1.31.83)\n",
      "Requirement already satisfied: s3transfer<0.8.0,>=0.7.0 in /opt/app-root/lib/python3.9/site-packages (from boto3) (0.7.0)\n",
      "Requirement already satisfied: jmespath<2.0.0,>=0.7.1 in /opt/app-root/lib/python3.9/site-packages (from boto3) (1.0.1)\n",
      "Requirement already satisfied: python-dateutil<3.0.0,>=2.1 in /opt/app-root/lib/python3.9/site-packages (from botocore) (2.8.2)\n",
      "Requirement already satisfied: urllib3<1.27,>=1.25.4 in /opt/app-root/lib/python3.9/site-packages (from botocore) (1.26.18)\n",
      "Requirement already satisfied: six>=1.5 in /opt/app-root/lib/python3.9/site-packages (from python-dateutil<3.0.0,>=2.1->botocore) (1.16.0)\n",
      "\n",
      "\u001b[1m[\u001b[0m\u001b[34;49mnotice\u001b[0m\u001b[1;39;49m]\u001b[0m\u001b[39;49m A new release of pip available: \u001b[0m\u001b[31;49m22.2.2\u001b[0m\u001b[39;49m -> \u001b[0m\u001b[32;49m24.3.1\u001b[0m\n",
      "\u001b[1m[\u001b[0m\u001b[34;49mnotice\u001b[0m\u001b[1;39;49m]\u001b[0m\u001b[39;49m To update, run: \u001b[0m\u001b[32;49mpip install --upgrade pip\u001b[0m\n"
     ]
    }
   ],
   "source": [
    "!pip install boto3 botocore"
   ]
  },
  {
   "cell_type": "markdown",
   "metadata": {
    "tags": []
   },
   "source": [
    "## Install the required packages and define a function for the upload"
   ]
  },
  {
   "cell_type": "markdown",
   "metadata": {},
   "source": [
    "## Download from Huggingface"
   ]
  },
  {
   "cell_type": "code",
   "execution_count": 2,
   "metadata": {
    "collapsed": false,
    "jupyter": {
     "outputs_hidden": false
    },
    "tags": []
   },
   "outputs": [
    {
     "name": "stdout",
     "output_type": "stream",
     "text": [
      "Downloading to ./Mistral-7B-Instruct-v0.2\n",
      "Test GIT_REFS_URL: https://huggingface.co/mistralai/Mistral-7B-Instruct-v0.2/info/refs?service=git-upload-pack\n",
      "git clone https://<your id>:<your token>@huggingface.co/mistralai/Mistral-7B-Instruct-v0.2\n",
      "Cloning into 'Mistral-7B-Instruct-v0.2'...\n",
      "remote: Enumerating objects: 74, done.\u001b[K\n",
      "remote: Counting objects: 100% (74/74), done.\u001b[K\n",
      "remote: Compressing objects: 100% (52/52), done.\u001b[K\n",
      "remote: Total 74 (delta 35), reused 48 (delta 21), pack-reused 0 (from 0)\u001b[K\n",
      "Unpacking objects: 100% (74/74), 481.51 KiB | 5.80 MiB/s, done.\n",
      "\n",
      "Start Downloading lfs files, bash script:\n",
      "aria2c --header=\"Authorization: Bearer <your token>\" -x 8 -s 8 -k 1M -c \"https://huggingface.co/mistralai/Mistral-7B-Instruct-v0.2/resolve/main/model-00001-of-00003.safetensors\" -d \".\" -o \"model-00001-of-00003.safetensors\"\n",
      "aria2c --header=\"Authorization: Bearer <your token>\" -x 8 -s 8 -k 1M -c \"https://huggingface.co/mistralai/Mistral-7B-Instruct-v0.2/resolve/main/model-00002-of-00003.safetensors\" -d \".\" -o \"model-00002-of-00003.safetensors\"\n",
      "aria2c --header=\"Authorization: Bearer <your token>\" -x 8 -s 8 -k 1M -c \"https://huggingface.co/mistralai/Mistral-7B-Instruct-v0.2/resolve/main/model-00003-of-00003.safetensors\" -d \".\" -o \"model-00003-of-00003.safetensors\"\n",
      "# aria2c --header=\"Authorization: Bearer <your token>\" -x 8 -s 8 -k 1M -c \"https://huggingface.co/mistralai/Mistral-7B-Instruct-v0.2/resolve/main/pytorch_model-00001-of-00003.bin\" -d \".\" -o \"pytorch_model-00001-of-00003.bin\"\n",
      "# aria2c --header=\"Authorization: Bearer <your token>\" -x 8 -s 8 -k 1M -c \"https://huggingface.co/mistralai/Mistral-7B-Instruct-v0.2/resolve/main/pytorch_model-00002-of-00003.bin\" -d \".\" -o \"pytorch_model-00002-of-00003.bin\"\n",
      "# aria2c --header=\"Authorization: Bearer <your token>\" -x 8 -s 8 -k 1M -c \"https://huggingface.co/mistralai/Mistral-7B-Instruct-v0.2/resolve/main/pytorch_model-00003-of-00003.bin\" -d \".\" -o \"pytorch_model-00003-of-00003.bin\"\n",
      "aria2c --header=\"Authorization: Bearer <your token>\" -x 8 -s 8 -k 1M -c \"https://huggingface.co/mistralai/Mistral-7B-Instruct-v0.2/resolve/main/tokenizer.model\" -d \".\" -o \"tokenizer.model\"\n",
      "\n",
      "11/26 08:48:54 [\u001b[1;32mNOTICE\u001b[0m] Downloading 1 item(s)\n",
      "\n",
      "11/26 08:48:54 [\u001b[1;32mNOTICE\u001b[0m] CUID#7 - Redirecting to https://cdn-lfs-us-1.hf.co/repos/25/f2/25f242d117fa40b7cc0b5e85e97135c923bc5665bde4204e7fabadb99a561eab/63654d601820b88b1fa8b4a98df5714f700fbc5b3df2cc4ecbabdced35096d31?response-content-disposition=inline%3B+filename*%3DUTF-8%27%27model-00001-of-00003.safetensors%3B+filename%3D%22model-00001-of-00003.safetensors%22%3B&Expires=1732870134&Policy=eyJTdGF0ZW1lbnQiOlt7IkNvbmRpdGlvbiI6eyJEYXRlTGVzc1RoYW4iOnsiQVdTOkVwb2NoVGltZSI6MTczMjg3MDEzNH19LCJSZXNvdXJjZSI6Imh0dHBzOi8vY2RuLWxmcy11cy0xLmhmLmNvL3JlcG9zLzI1L2YyLzI1ZjI0MmQxMTdmYTQwYjdjYzBiNWU4NWU5NzEzNWM5MjNiYzU2NjViZGU0MjA0ZTdmYWJhZGI5OWE1NjFlYWIvNjM2NTRkNjAxODIwYjg4YjFmYThiNGE5OGRmNTcxNGY3MDBmYmM1YjNkZjJjYzRlY2JhYmRjZWQzNTA5NmQzMT9yZXNwb25zZS1jb250ZW50LWRpc3Bvc2l0aW9uPSoifV19&Signature=uEHV9PfmlxxB7Gc0J8H3KbDVFps%7Eq4kaokbqwTf6bpo2xwkO6KGuRCt0OggWF895%7E3koghwaRLKzc5rMS2Xi8a3s2RroFTJwwnYLtpNf2TO087FmPIrBOhjh7yK-rQfgMa1UCN9M5eM4Dhu%7EPAUggxuAuWojp9KN1D-Rqz8ot8WxLTl%7EUZV%7EC9OWZ6UbT1Rsb9yY8L-FjuNlaaDq8ucEWS-YXiszVw9hMPsCzjA1L2hYK4tUvvr7SaucucCmBE1fk0UPWrosR3-RLF9g6gfIpLvmkBwxLC%7E2bUqsVdcFsQk20-5iEHTIBvNhhjkMBddhRDchk2kgNj9azrvodvM%7Eng__&Key-Pair-Id=K24J24Z295AEI9\n",
      "\n",
      "11/26 08:48:55 [\u001b[1;32mNOTICE\u001b[0m] CUID#11 - Redirecting to https://cdn-lfs-us-1.hf.co/repos/25/f2/25f242d117fa40b7cc0b5e85e97135c923bc5665bde4204e7fabadb99a561eab/63654d601820b88b1fa8b4a98df5714f700fbc5b3df2cc4ecbabdced35096d31?response-content-disposition=inline%3B+filename*%3DUTF-8%27%27model-00001-of-00003.safetensors%3B+filename%3D%22model-00001-of-00003.safetensors%22%3B&Expires=1732868347&Policy=eyJTdGF0ZW1lbnQiOlt7IkNvbmRpdGlvbiI6eyJEYXRlTGVzc1RoYW4iOnsiQVdTOkVwb2NoVGltZSI6MTczMjg2ODM0N319LCJSZXNvdXJjZSI6Imh0dHBzOi8vY2RuLWxmcy11cy0xLmhmLmNvL3JlcG9zLzI1L2YyLzI1ZjI0MmQxMTdmYTQwYjdjYzBiNWU4NWU5NzEzNWM5MjNiYzU2NjViZGU0MjA0ZTdmYWJhZGI5OWE1NjFlYWIvNjM2NTRkNjAxODIwYjg4YjFmYThiNGE5OGRmNTcxNGY3MDBmYmM1YjNkZjJjYzRlY2JhYmRjZWQzNTA5NmQzMT9yZXNwb25zZS1jb250ZW50LWRpc3Bvc2l0aW9uPSoifV19&Signature=HA1m8tYObDE5eO%7EcqswFpsxWcpKRLDGXodYJqc01aq9LgyRRkFpuEEZZLrdhAR90S8p2OzALaMeafVAN4-miQuvwHQJRQw32E7ihBVL9jOJQmATF4usXqWRm6fEzoGOuE6SCMAIGLr3ICAdKfCgoGj4qcycHeO55tbIPLaiCkXFefR8QXTbVwSo4Kk6LPZq69o2i68iApYjvgEhmViY0Opr6WWhkKyHmPR9EHiXqfl2Gnzj94KnzR1q-72434chwFlYUGBAO8SsEj0njjv0CRAXw5YuVLnhjJaMTkqoKyy1u9I0NpxSl94PxWD9GDk8JtsmAHKFzOSG0uc6rB4FKdg__&Key-Pair-Id=K24J24Z295AEI9\n",
      "\n",
      "11/26 08:48:55 [\u001b[1;32mNOTICE\u001b[0m] CUID#14 - Redirecting to https://cdn-lfs-us-1.hf.co/repos/25/f2/25f242d117fa40b7cc0b5e85e97135c923bc5665bde4204e7fabadb99a561eab/63654d601820b88b1fa8b4a98df5714f700fbc5b3df2cc4ecbabdced35096d31?response-content-disposition=inline%3B+filename*%3DUTF-8%27%27model-00001-of-00003.safetensors%3B+filename%3D%22model-00001-of-00003.safetensors%22%3B&Expires=1732870135&Policy=eyJTdGF0ZW1lbnQiOlt7IkNvbmRpdGlvbiI6eyJEYXRlTGVzc1RoYW4iOnsiQVdTOkVwb2NoVGltZSI6MTczMjg3MDEzNX19LCJSZXNvdXJjZSI6Imh0dHBzOi8vY2RuLWxmcy11cy0xLmhmLmNvL3JlcG9zLzI1L2YyLzI1ZjI0MmQxMTdmYTQwYjdjYzBiNWU4NWU5NzEzNWM5MjNiYzU2NjViZGU0MjA0ZTdmYWJhZGI5OWE1NjFlYWIvNjM2NTRkNjAxODIwYjg4YjFmYThiNGE5OGRmNTcxNGY3MDBmYmM1YjNkZjJjYzRlY2JhYmRjZWQzNTA5NmQzMT9yZXNwb25zZS1jb250ZW50LWRpc3Bvc2l0aW9uPSoifV19&Signature=nvXncMm8R7Xn6t52i5HIjrfceXRDGEPtLraqzd5RO6tSPTyZVf41dpdmayDJPC5DZb6Kp0bfHJq%7EWKCIZO4z0Uz0e6JoL%7E3XC4kIw%7EHmmeObuuEksREEWDPHFSixScg4u7JKe9QgN0bm20OFm0Zlvsyw2-pNyS05XhebNLs3uvg7UTc2tM0tOVhc5XbyndQTcok6dww4FkuQstmEBVJ3DERyf8sG97d861J%7Ee10G-Cs7IiSPEECS-hhGwZMlavtULMZTuNswlIDFAm-kcsW06CwcQxAaQm7FXlR7Hf7cqUTaku5-QUcvgS6pIAogEL5RRRFPMbpqTKY5jaA8z2BFVQ__&Key-Pair-Id=K24J24Z295AEI9\n",
      "\n",
      "11/26 08:48:55 [\u001b[1;32mNOTICE\u001b[0m] CUID#12 - Redirecting to https://cdn-lfs-us-1.hf.co/repos/25/f2/25f242d117fa40b7cc0b5e85e97135c923bc5665bde4204e7fabadb99a561eab/63654d601820b88b1fa8b4a98df5714f700fbc5b3df2cc4ecbabdced35096d31?response-content-disposition=inline%3B+filename*%3DUTF-8%27%27model-00001-of-00003.safetensors%3B+filename%3D%22model-00001-of-00003.safetensors%22%3B&Expires=1732870135&Policy=eyJTdGF0ZW1lbnQiOlt7IkNvbmRpdGlvbiI6eyJEYXRlTGVzc1RoYW4iOnsiQVdTOkVwb2NoVGltZSI6MTczMjg3MDEzNX19LCJSZXNvdXJjZSI6Imh0dHBzOi8vY2RuLWxmcy11cy0xLmhmLmNvL3JlcG9zLzI1L2YyLzI1ZjI0MmQxMTdmYTQwYjdjYzBiNWU4NWU5NzEzNWM5MjNiYzU2NjViZGU0MjA0ZTdmYWJhZGI5OWE1NjFlYWIvNjM2NTRkNjAxODIwYjg4YjFmYThiNGE5OGRmNTcxNGY3MDBmYmM1YjNkZjJjYzRlY2JhYmRjZWQzNTA5NmQzMT9yZXNwb25zZS1jb250ZW50LWRpc3Bvc2l0aW9uPSoifV19&Signature=nvXncMm8R7Xn6t52i5HIjrfceXRDGEPtLraqzd5RO6tSPTyZVf41dpdmayDJPC5DZb6Kp0bfHJq%7EWKCIZO4z0Uz0e6JoL%7E3XC4kIw%7EHmmeObuuEksREEWDPHFSixScg4u7JKe9QgN0bm20OFm0Zlvsyw2-pNyS05XhebNLs3uvg7UTc2tM0tOVhc5XbyndQTcok6dww4FkuQstmEBVJ3DERyf8sG97d861J%7Ee10G-Cs7IiSPEECS-hhGwZMlavtULMZTuNswlIDFAm-kcsW06CwcQxAaQm7FXlR7Hf7cqUTaku5-QUcvgS6pIAogEL5RRRFPMbpqTKY5jaA8z2BFVQ__&Key-Pair-Id=K24J24Z295AEI9\n",
      "\n",
      "11/26 08:48:55 [\u001b[1;32mNOTICE\u001b[0m] CUID#13 - Redirecting to https://cdn-lfs-us-1.hf.co/repos/25/f2/25f242d117fa40b7cc0b5e85e97135c923bc5665bde4204e7fabadb99a561eab/63654d601820b88b1fa8b4a98df5714f700fbc5b3df2cc4ecbabdced35096d31?response-content-disposition=inline%3B+filename*%3DUTF-8%27%27model-00001-of-00003.safetensors%3B+filename%3D%22model-00001-of-00003.safetensors%22%3B&Expires=1732870135&Policy=eyJTdGF0ZW1lbnQiOlt7IkNvbmRpdGlvbiI6eyJEYXRlTGVzc1RoYW4iOnsiQVdTOkVwb2NoVGltZSI6MTczMjg3MDEzNX19LCJSZXNvdXJjZSI6Imh0dHBzOi8vY2RuLWxmcy11cy0xLmhmLmNvL3JlcG9zLzI1L2YyLzI1ZjI0MmQxMTdmYTQwYjdjYzBiNWU4NWU5NzEzNWM5MjNiYzU2NjViZGU0MjA0ZTdmYWJhZGI5OWE1NjFlYWIvNjM2NTRkNjAxODIwYjg4YjFmYThiNGE5OGRmNTcxNGY3MDBmYmM1YjNkZjJjYzRlY2JhYmRjZWQzNTA5NmQzMT9yZXNwb25zZS1jb250ZW50LWRpc3Bvc2l0aW9uPSoifV19&Signature=nvXncMm8R7Xn6t52i5HIjrfceXRDGEPtLraqzd5RO6tSPTyZVf41dpdmayDJPC5DZb6Kp0bfHJq%7EWKCIZO4z0Uz0e6JoL%7E3XC4kIw%7EHmmeObuuEksREEWDPHFSixScg4u7JKe9QgN0bm20OFm0Zlvsyw2-pNyS05XhebNLs3uvg7UTc2tM0tOVhc5XbyndQTcok6dww4FkuQstmEBVJ3DERyf8sG97d861J%7Ee10G-Cs7IiSPEECS-hhGwZMlavtULMZTuNswlIDFAm-kcsW06CwcQxAaQm7FXlR7Hf7cqUTaku5-QUcvgS6pIAogEL5RRRFPMbpqTKY5jaA8z2BFVQ__&Key-Pair-Id=K24J24Z295AEI9\n",
      "\n",
      "11/26 08:48:55 [\u001b[1;32mNOTICE\u001b[0m] CUID#15 - Redirecting to https://cdn-lfs-us-1.hf.co/repos/25/f2/25f242d117fa40b7cc0b5e85e97135c923bc5665bde4204e7fabadb99a561eab/63654d601820b88b1fa8b4a98df5714f700fbc5b3df2cc4ecbabdced35096d31?response-content-disposition=inline%3B+filename*%3DUTF-8%27%27model-00001-of-00003.safetensors%3B+filename%3D%22model-00001-of-00003.safetensors%22%3B&Expires=1732870135&Policy=eyJTdGF0ZW1lbnQiOlt7IkNvbmRpdGlvbiI6eyJEYXRlTGVzc1RoYW4iOnsiQVdTOkVwb2NoVGltZSI6MTczMjg3MDEzNX19LCJSZXNvdXJjZSI6Imh0dHBzOi8vY2RuLWxmcy11cy0xLmhmLmNvL3JlcG9zLzI1L2YyLzI1ZjI0MmQxMTdmYTQwYjdjYzBiNWU4NWU5NzEzNWM5MjNiYzU2NjViZGU0MjA0ZTdmYWJhZGI5OWE1NjFlYWIvNjM2NTRkNjAxODIwYjg4YjFmYThiNGE5OGRmNTcxNGY3MDBmYmM1YjNkZjJjYzRlY2JhYmRjZWQzNTA5NmQzMT9yZXNwb25zZS1jb250ZW50LWRpc3Bvc2l0aW9uPSoifV19&Signature=nvXncMm8R7Xn6t52i5HIjrfceXRDGEPtLraqzd5RO6tSPTyZVf41dpdmayDJPC5DZb6Kp0bfHJq%7EWKCIZO4z0Uz0e6JoL%7E3XC4kIw%7EHmmeObuuEksREEWDPHFSixScg4u7JKe9QgN0bm20OFm0Zlvsyw2-pNyS05XhebNLs3uvg7UTc2tM0tOVhc5XbyndQTcok6dww4FkuQstmEBVJ3DERyf8sG97d861J%7Ee10G-Cs7IiSPEECS-hhGwZMlavtULMZTuNswlIDFAm-kcsW06CwcQxAaQm7FXlR7Hf7cqUTaku5-QUcvgS6pIAogEL5RRRFPMbpqTKY5jaA8z2BFVQ__&Key-Pair-Id=K24J24Z295AEI9\n",
      "\n",
      "11/26 08:48:55 [\u001b[1;32mNOTICE\u001b[0m] CUID#10 - Redirecting to https://cdn-lfs-us-1.hf.co/repos/25/f2/25f242d117fa40b7cc0b5e85e97135c923bc5665bde4204e7fabadb99a561eab/63654d601820b88b1fa8b4a98df5714f700fbc5b3df2cc4ecbabdced35096d31?response-content-disposition=inline%3B+filename*%3DUTF-8%27%27model-00001-of-00003.safetensors%3B+filename%3D%22model-00001-of-00003.safetensors%22%3B&Expires=1732870135&Policy=eyJTdGF0ZW1lbnQiOlt7IkNvbmRpdGlvbiI6eyJEYXRlTGVzc1RoYW4iOnsiQVdTOkVwb2NoVGltZSI6MTczMjg3MDEzNX19LCJSZXNvdXJjZSI6Imh0dHBzOi8vY2RuLWxmcy11cy0xLmhmLmNvL3JlcG9zLzI1L2YyLzI1ZjI0MmQxMTdmYTQwYjdjYzBiNWU4NWU5NzEzNWM5MjNiYzU2NjViZGU0MjA0ZTdmYWJhZGI5OWE1NjFlYWIvNjM2NTRkNjAxODIwYjg4YjFmYThiNGE5OGRmNTcxNGY3MDBmYmM1YjNkZjJjYzRlY2JhYmRjZWQzNTA5NmQzMT9yZXNwb25zZS1jb250ZW50LWRpc3Bvc2l0aW9uPSoifV19&Signature=nvXncMm8R7Xn6t52i5HIjrfceXRDGEPtLraqzd5RO6tSPTyZVf41dpdmayDJPC5DZb6Kp0bfHJq%7EWKCIZO4z0Uz0e6JoL%7E3XC4kIw%7EHmmeObuuEksREEWDPHFSixScg4u7JKe9QgN0bm20OFm0Zlvsyw2-pNyS05XhebNLs3uvg7UTc2tM0tOVhc5XbyndQTcok6dww4FkuQstmEBVJ3DERyf8sG97d861J%7Ee10G-Cs7IiSPEECS-hhGwZMlavtULMZTuNswlIDFAm-kcsW06CwcQxAaQm7FXlR7Hf7cqUTaku5-QUcvgS6pIAogEL5RRRFPMbpqTKY5jaA8z2BFVQ__&Key-Pair-Id=K24J24Z295AEI9\n",
      "\n",
      "11/26 08:48:55 [\u001b[1;32mNOTICE\u001b[0m] CUID#9 - Redirecting to https://cdn-lfs-us-1.hf.co/repos/25/f2/25f242d117fa40b7cc0b5e85e97135c923bc5665bde4204e7fabadb99a561eab/63654d601820b88b1fa8b4a98df5714f700fbc5b3df2cc4ecbabdced35096d31?response-content-disposition=inline%3B+filename*%3DUTF-8%27%27model-00001-of-00003.safetensors%3B+filename%3D%22model-00001-of-00003.safetensors%22%3B&Expires=1732870135&Policy=eyJTdGF0ZW1lbnQiOlt7IkNvbmRpdGlvbiI6eyJEYXRlTGVzc1RoYW4iOnsiQVdTOkVwb2NoVGltZSI6MTczMjg3MDEzNX19LCJSZXNvdXJjZSI6Imh0dHBzOi8vY2RuLWxmcy11cy0xLmhmLmNvL3JlcG9zLzI1L2YyLzI1ZjI0MmQxMTdmYTQwYjdjYzBiNWU4NWU5NzEzNWM5MjNiYzU2NjViZGU0MjA0ZTdmYWJhZGI5OWE1NjFlYWIvNjM2NTRkNjAxODIwYjg4YjFmYThiNGE5OGRmNTcxNGY3MDBmYmM1YjNkZjJjYzRlY2JhYmRjZWQzNTA5NmQzMT9yZXNwb25zZS1jb250ZW50LWRpc3Bvc2l0aW9uPSoifV19&Signature=nvXncMm8R7Xn6t52i5HIjrfceXRDGEPtLraqzd5RO6tSPTyZVf41dpdmayDJPC5DZb6Kp0bfHJq%7EWKCIZO4z0Uz0e6JoL%7E3XC4kIw%7EHmmeObuuEksREEWDPHFSixScg4u7JKe9QgN0bm20OFm0Zlvsyw2-pNyS05XhebNLs3uvg7UTc2tM0tOVhc5XbyndQTcok6dww4FkuQstmEBVJ3DERyf8sG97d861J%7Ee10G-Cs7IiSPEECS-hhGwZMlavtULMZTuNswlIDFAm-kcsW06CwcQxAaQm7FXlR7Hf7cqUTaku5-QUcvgS6pIAogEL5RRRFPMbpqTKY5jaA8z2BFVQ__&Key-Pair-Id=K24J24Z295AEI9\n",
      "\u001b[35m[\u001b[0m#7c237d 4.4GiB/4.6GiB\u001b[36m(97%)\u001b[0m CN:8 DL:\u001b[32m132MiB\u001b[0m\u001b[35m]\u001b[0m\u001b[0m0m\u001b[35m]\u001b[0m\u001b[0mm\n",
      "11/26 08:49:34 [\u001b[1;32mNOTICE\u001b[0m] Download complete: ./model-00001-of-00003.safetensors\n",
      "\n",
      "Download Results:\n",
      "gid   |stat|avg speed  |path/URI\n",
      "======+====+===========+=======================================================\n",
      "7c237d|\u001b[1;32mOK\u001b[0m  |   154MiB/s|./model-00001-of-00003.safetensors\n",
      "\n",
      "Status Legend:\n",
      "(OK):download completed.\n",
      "Downloaded https://huggingface.co/mistralai/Mistral-7B-Instruct-v0.2/resolve/main/model-00001-of-00003.safetensors successfully.\n",
      "\n",
      "11/26 08:49:34 [\u001b[1;32mNOTICE\u001b[0m] Downloading 1 item(s)\n",
      "\n",
      "11/26 08:49:34 [\u001b[1;32mNOTICE\u001b[0m] CUID#7 - Redirecting to https://cdn-lfs-us-1.hf.co/repos/25/f2/25f242d117fa40b7cc0b5e85e97135c923bc5665bde4204e7fabadb99a561eab/a42716540ecb2385d371f2109835921ff535406cac8fe8ff28f2f0b5fc7895bd?response-content-disposition=inline%3B+filename*%3DUTF-8%27%27model-00002-of-00003.safetensors%3B+filename%3D%22model-00002-of-00003.safetensors%22%3B&Expires=1732870174&Policy=eyJTdGF0ZW1lbnQiOlt7IkNvbmRpdGlvbiI6eyJEYXRlTGVzc1RoYW4iOnsiQVdTOkVwb2NoVGltZSI6MTczMjg3MDE3NH19LCJSZXNvdXJjZSI6Imh0dHBzOi8vY2RuLWxmcy11cy0xLmhmLmNvL3JlcG9zLzI1L2YyLzI1ZjI0MmQxMTdmYTQwYjdjYzBiNWU4NWU5NzEzNWM5MjNiYzU2NjViZGU0MjA0ZTdmYWJhZGI5OWE1NjFlYWIvYTQyNzE2NTQwZWNiMjM4NWQzNzFmMjEwOTgzNTkyMWZmNTM1NDA2Y2FjOGZlOGZmMjhmMmYwYjVmYzc4OTViZD9yZXNwb25zZS1jb250ZW50LWRpc3Bvc2l0aW9uPSoifV19&Signature=jIOkFYWiOwxkBZETbBb5VEaBSOIoC7rK7z55rGM3JfGa1bqUCs2TgJ2rUnHlCYEQZ8s6JytG%7Eo9lPfBL-N42hUUF1gpsdPKp0BJk4etYWjUWq-OhMiLbvFon3jRTwLHj3Vbw0HfnMCI313h6iEBkejZTLB3--jl3TgS2Z0gPaGfNK0KtTXZfWAH63LHgkc2vRnwUo%7E2GMeGqu1GbeFXFOfXUm1TPuri24QXWlQs%7EnEMzQK5Hz5qxMnoZgYnnWUMktJBHk5zA18-Gc2yvZM%7EKuIp%7EEkndBg7NBTKyI0F7tLbNUdk6SLX967xIR1imIboaLcgH7xvPsTRTQVII7nWZ8g__&Key-Pair-Id=K24J24Z295AEI9\n",
      "\n",
      "11/26 08:49:34 [\u001b[1;32mNOTICE\u001b[0m] CUID#9 - Redirecting to https://cdn-lfs-us-1.hf.co/repos/25/f2/25f242d117fa40b7cc0b5e85e97135c923bc5665bde4204e7fabadb99a561eab/a42716540ecb2385d371f2109835921ff535406cac8fe8ff28f2f0b5fc7895bd?response-content-disposition=inline%3B+filename*%3DUTF-8%27%27model-00002-of-00003.safetensors%3B+filename%3D%22model-00002-of-00003.safetensors%22%3B&Expires=1732870174&Policy=eyJTdGF0ZW1lbnQiOlt7IkNvbmRpdGlvbiI6eyJEYXRlTGVzc1RoYW4iOnsiQVdTOkVwb2NoVGltZSI6MTczMjg3MDE3NH19LCJSZXNvdXJjZSI6Imh0dHBzOi8vY2RuLWxmcy11cy0xLmhmLmNvL3JlcG9zLzI1L2YyLzI1ZjI0MmQxMTdmYTQwYjdjYzBiNWU4NWU5NzEzNWM5MjNiYzU2NjViZGU0MjA0ZTdmYWJhZGI5OWE1NjFlYWIvYTQyNzE2NTQwZWNiMjM4NWQzNzFmMjEwOTgzNTkyMWZmNTM1NDA2Y2FjOGZlOGZmMjhmMmYwYjVmYzc4OTViZD9yZXNwb25zZS1jb250ZW50LWRpc3Bvc2l0aW9uPSoifV19&Signature=jIOkFYWiOwxkBZETbBb5VEaBSOIoC7rK7z55rGM3JfGa1bqUCs2TgJ2rUnHlCYEQZ8s6JytG%7Eo9lPfBL-N42hUUF1gpsdPKp0BJk4etYWjUWq-OhMiLbvFon3jRTwLHj3Vbw0HfnMCI313h6iEBkejZTLB3--jl3TgS2Z0gPaGfNK0KtTXZfWAH63LHgkc2vRnwUo%7E2GMeGqu1GbeFXFOfXUm1TPuri24QXWlQs%7EnEMzQK5Hz5qxMnoZgYnnWUMktJBHk5zA18-Gc2yvZM%7EKuIp%7EEkndBg7NBTKyI0F7tLbNUdk6SLX967xIR1imIboaLcgH7xvPsTRTQVII7nWZ8g__&Key-Pair-Id=K24J24Z295AEI9\n",
      "\n",
      "11/26 08:49:34 [\u001b[1;32mNOTICE\u001b[0m] CUID#14 - Redirecting to https://cdn-lfs-us-1.hf.co/repos/25/f2/25f242d117fa40b7cc0b5e85e97135c923bc5665bde4204e7fabadb99a561eab/a42716540ecb2385d371f2109835921ff535406cac8fe8ff28f2f0b5fc7895bd?response-content-disposition=inline%3B+filename*%3DUTF-8%27%27model-00002-of-00003.safetensors%3B+filename%3D%22model-00002-of-00003.safetensors%22%3B&Expires=1732870174&Policy=eyJTdGF0ZW1lbnQiOlt7IkNvbmRpdGlvbiI6eyJEYXRlTGVzc1RoYW4iOnsiQVdTOkVwb2NoVGltZSI6MTczMjg3MDE3NH19LCJSZXNvdXJjZSI6Imh0dHBzOi8vY2RuLWxmcy11cy0xLmhmLmNvL3JlcG9zLzI1L2YyLzI1ZjI0MmQxMTdmYTQwYjdjYzBiNWU4NWU5NzEzNWM5MjNiYzU2NjViZGU0MjA0ZTdmYWJhZGI5OWE1NjFlYWIvYTQyNzE2NTQwZWNiMjM4NWQzNzFmMjEwOTgzNTkyMWZmNTM1NDA2Y2FjOGZlOGZmMjhmMmYwYjVmYzc4OTViZD9yZXNwb25zZS1jb250ZW50LWRpc3Bvc2l0aW9uPSoifV19&Signature=jIOkFYWiOwxkBZETbBb5VEaBSOIoC7rK7z55rGM3JfGa1bqUCs2TgJ2rUnHlCYEQZ8s6JytG%7Eo9lPfBL-N42hUUF1gpsdPKp0BJk4etYWjUWq-OhMiLbvFon3jRTwLHj3Vbw0HfnMCI313h6iEBkejZTLB3--jl3TgS2Z0gPaGfNK0KtTXZfWAH63LHgkc2vRnwUo%7E2GMeGqu1GbeFXFOfXUm1TPuri24QXWlQs%7EnEMzQK5Hz5qxMnoZgYnnWUMktJBHk5zA18-Gc2yvZM%7EKuIp%7EEkndBg7NBTKyI0F7tLbNUdk6SLX967xIR1imIboaLcgH7xvPsTRTQVII7nWZ8g__&Key-Pair-Id=K24J24Z295AEI9\n",
      "\n",
      "11/26 08:49:34 [\u001b[1;32mNOTICE\u001b[0m] CUID#10 - Redirecting to https://cdn-lfs-us-1.hf.co/repos/25/f2/25f242d117fa40b7cc0b5e85e97135c923bc5665bde4204e7fabadb99a561eab/a42716540ecb2385d371f2109835921ff535406cac8fe8ff28f2f0b5fc7895bd?response-content-disposition=inline%3B+filename*%3DUTF-8%27%27model-00002-of-00003.safetensors%3B+filename%3D%22model-00002-of-00003.safetensors%22%3B&Expires=1732870174&Policy=eyJTdGF0ZW1lbnQiOlt7IkNvbmRpdGlvbiI6eyJEYXRlTGVzc1RoYW4iOnsiQVdTOkVwb2NoVGltZSI6MTczMjg3MDE3NH19LCJSZXNvdXJjZSI6Imh0dHBzOi8vY2RuLWxmcy11cy0xLmhmLmNvL3JlcG9zLzI1L2YyLzI1ZjI0MmQxMTdmYTQwYjdjYzBiNWU4NWU5NzEzNWM5MjNiYzU2NjViZGU0MjA0ZTdmYWJhZGI5OWE1NjFlYWIvYTQyNzE2NTQwZWNiMjM4NWQzNzFmMjEwOTgzNTkyMWZmNTM1NDA2Y2FjOGZlOGZmMjhmMmYwYjVmYzc4OTViZD9yZXNwb25zZS1jb250ZW50LWRpc3Bvc2l0aW9uPSoifV19&Signature=jIOkFYWiOwxkBZETbBb5VEaBSOIoC7rK7z55rGM3JfGa1bqUCs2TgJ2rUnHlCYEQZ8s6JytG%7Eo9lPfBL-N42hUUF1gpsdPKp0BJk4etYWjUWq-OhMiLbvFon3jRTwLHj3Vbw0HfnMCI313h6iEBkejZTLB3--jl3TgS2Z0gPaGfNK0KtTXZfWAH63LHgkc2vRnwUo%7E2GMeGqu1GbeFXFOfXUm1TPuri24QXWlQs%7EnEMzQK5Hz5qxMnoZgYnnWUMktJBHk5zA18-Gc2yvZM%7EKuIp%7EEkndBg7NBTKyI0F7tLbNUdk6SLX967xIR1imIboaLcgH7xvPsTRTQVII7nWZ8g__&Key-Pair-Id=K24J24Z295AEI9\n",
      "\n",
      "11/26 08:49:34 [\u001b[1;32mNOTICE\u001b[0m] CUID#15 - Redirecting to https://cdn-lfs-us-1.hf.co/repos/25/f2/25f242d117fa40b7cc0b5e85e97135c923bc5665bde4204e7fabadb99a561eab/a42716540ecb2385d371f2109835921ff535406cac8fe8ff28f2f0b5fc7895bd?response-content-disposition=inline%3B+filename*%3DUTF-8%27%27model-00002-of-00003.safetensors%3B+filename%3D%22model-00002-of-00003.safetensors%22%3B&Expires=1732868289&Policy=eyJTdGF0ZW1lbnQiOlt7IkNvbmRpdGlvbiI6eyJEYXRlTGVzc1RoYW4iOnsiQVdTOkVwb2NoVGltZSI6MTczMjg2ODI4OX19LCJSZXNvdXJjZSI6Imh0dHBzOi8vY2RuLWxmcy11cy0xLmhmLmNvL3JlcG9zLzI1L2YyLzI1ZjI0MmQxMTdmYTQwYjdjYzBiNWU4NWU5NzEzNWM5MjNiYzU2NjViZGU0MjA0ZTdmYWJhZGI5OWE1NjFlYWIvYTQyNzE2NTQwZWNiMjM4NWQzNzFmMjEwOTgzNTkyMWZmNTM1NDA2Y2FjOGZlOGZmMjhmMmYwYjVmYzc4OTViZD9yZXNwb25zZS1jb250ZW50LWRpc3Bvc2l0aW9uPSoifV19&Signature=jq4YnF4lMzn1mZa8InWdy2n--4omrfHWPBVQkfoaCdIar7B2QUAvEHpH5NGz8IElobLFnUTJcimagf7ckpTdp0rKXZueKn3EN-GQNPkxmZ4PwGuMgfYC9mTcm2rv78onYY9VGXulj-3NXsVcgHIsB8%7E4qskT7%7EY8AxsFrOPnqv1d4argnX5R6RZ5sC7C6B9SfG182k3U5VIUKRg78VznkKOuFoo8VHoZSoWGZ2gO05Xysq16QpYwNcujttqgp5uWaqzzedG7NSfuI1--wKrm%7EJqYK9LnWOHek-iEYnR2qFjrHPjEIfuUcPZRL%7EqA4VJmZVgA%7EN7epQ9WsfkWdVd2Ww__&Key-Pair-Id=K24J24Z295AEI9\n",
      "\n",
      "11/26 08:49:34 [\u001b[1;32mNOTICE\u001b[0m] CUID#11 - Redirecting to https://cdn-lfs-us-1.hf.co/repos/25/f2/25f242d117fa40b7cc0b5e85e97135c923bc5665bde4204e7fabadb99a561eab/a42716540ecb2385d371f2109835921ff535406cac8fe8ff28f2f0b5fc7895bd?response-content-disposition=inline%3B+filename*%3DUTF-8%27%27model-00002-of-00003.safetensors%3B+filename%3D%22model-00002-of-00003.safetensors%22%3B&Expires=1732870174&Policy=eyJTdGF0ZW1lbnQiOlt7IkNvbmRpdGlvbiI6eyJEYXRlTGVzc1RoYW4iOnsiQVdTOkVwb2NoVGltZSI6MTczMjg3MDE3NH19LCJSZXNvdXJjZSI6Imh0dHBzOi8vY2RuLWxmcy11cy0xLmhmLmNvL3JlcG9zLzI1L2YyLzI1ZjI0MmQxMTdmYTQwYjdjYzBiNWU4NWU5NzEzNWM5MjNiYzU2NjViZGU0MjA0ZTdmYWJhZGI5OWE1NjFlYWIvYTQyNzE2NTQwZWNiMjM4NWQzNzFmMjEwOTgzNTkyMWZmNTM1NDA2Y2FjOGZlOGZmMjhmMmYwYjVmYzc4OTViZD9yZXNwb25zZS1jb250ZW50LWRpc3Bvc2l0aW9uPSoifV19&Signature=jIOkFYWiOwxkBZETbBb5VEaBSOIoC7rK7z55rGM3JfGa1bqUCs2TgJ2rUnHlCYEQZ8s6JytG%7Eo9lPfBL-N42hUUF1gpsdPKp0BJk4etYWjUWq-OhMiLbvFon3jRTwLHj3Vbw0HfnMCI313h6iEBkejZTLB3--jl3TgS2Z0gPaGfNK0KtTXZfWAH63LHgkc2vRnwUo%7E2GMeGqu1GbeFXFOfXUm1TPuri24QXWlQs%7EnEMzQK5Hz5qxMnoZgYnnWUMktJBHk5zA18-Gc2yvZM%7EKuIp%7EEkndBg7NBTKyI0F7tLbNUdk6SLX967xIR1imIboaLcgH7xvPsTRTQVII7nWZ8g__&Key-Pair-Id=K24J24Z295AEI9\n",
      "\n",
      "11/26 08:49:34 [\u001b[1;32mNOTICE\u001b[0m] CUID#12 - Redirecting to https://cdn-lfs-us-1.hf.co/repos/25/f2/25f242d117fa40b7cc0b5e85e97135c923bc5665bde4204e7fabadb99a561eab/a42716540ecb2385d371f2109835921ff535406cac8fe8ff28f2f0b5fc7895bd?response-content-disposition=inline%3B+filename*%3DUTF-8%27%27model-00002-of-00003.safetensors%3B+filename%3D%22model-00002-of-00003.safetensors%22%3B&Expires=1732870174&Policy=eyJTdGF0ZW1lbnQiOlt7IkNvbmRpdGlvbiI6eyJEYXRlTGVzc1RoYW4iOnsiQVdTOkVwb2NoVGltZSI6MTczMjg3MDE3NH19LCJSZXNvdXJjZSI6Imh0dHBzOi8vY2RuLWxmcy11cy0xLmhmLmNvL3JlcG9zLzI1L2YyLzI1ZjI0MmQxMTdmYTQwYjdjYzBiNWU4NWU5NzEzNWM5MjNiYzU2NjViZGU0MjA0ZTdmYWJhZGI5OWE1NjFlYWIvYTQyNzE2NTQwZWNiMjM4NWQzNzFmMjEwOTgzNTkyMWZmNTM1NDA2Y2FjOGZlOGZmMjhmMmYwYjVmYzc4OTViZD9yZXNwb25zZS1jb250ZW50LWRpc3Bvc2l0aW9uPSoifV19&Signature=jIOkFYWiOwxkBZETbBb5VEaBSOIoC7rK7z55rGM3JfGa1bqUCs2TgJ2rUnHlCYEQZ8s6JytG%7Eo9lPfBL-N42hUUF1gpsdPKp0BJk4etYWjUWq-OhMiLbvFon3jRTwLHj3Vbw0HfnMCI313h6iEBkejZTLB3--jl3TgS2Z0gPaGfNK0KtTXZfWAH63LHgkc2vRnwUo%7E2GMeGqu1GbeFXFOfXUm1TPuri24QXWlQs%7EnEMzQK5Hz5qxMnoZgYnnWUMktJBHk5zA18-Gc2yvZM%7EKuIp%7EEkndBg7NBTKyI0F7tLbNUdk6SLX967xIR1imIboaLcgH7xvPsTRTQVII7nWZ8g__&Key-Pair-Id=K24J24Z295AEI9\n",
      "\n",
      "11/26 08:49:34 [\u001b[1;32mNOTICE\u001b[0m] CUID#13 - Redirecting to https://cdn-lfs-us-1.hf.co/repos/25/f2/25f242d117fa40b7cc0b5e85e97135c923bc5665bde4204e7fabadb99a561eab/a42716540ecb2385d371f2109835921ff535406cac8fe8ff28f2f0b5fc7895bd?response-content-disposition=inline%3B+filename*%3DUTF-8%27%27model-00002-of-00003.safetensors%3B+filename%3D%22model-00002-of-00003.safetensors%22%3B&Expires=1732870174&Policy=eyJTdGF0ZW1lbnQiOlt7IkNvbmRpdGlvbiI6eyJEYXRlTGVzc1RoYW4iOnsiQVdTOkVwb2NoVGltZSI6MTczMjg3MDE3NH19LCJSZXNvdXJjZSI6Imh0dHBzOi8vY2RuLWxmcy11cy0xLmhmLmNvL3JlcG9zLzI1L2YyLzI1ZjI0MmQxMTdmYTQwYjdjYzBiNWU4NWU5NzEzNWM5MjNiYzU2NjViZGU0MjA0ZTdmYWJhZGI5OWE1NjFlYWIvYTQyNzE2NTQwZWNiMjM4NWQzNzFmMjEwOTgzNTkyMWZmNTM1NDA2Y2FjOGZlOGZmMjhmMmYwYjVmYzc4OTViZD9yZXNwb25zZS1jb250ZW50LWRpc3Bvc2l0aW9uPSoifV19&Signature=jIOkFYWiOwxkBZETbBb5VEaBSOIoC7rK7z55rGM3JfGa1bqUCs2TgJ2rUnHlCYEQZ8s6JytG%7Eo9lPfBL-N42hUUF1gpsdPKp0BJk4etYWjUWq-OhMiLbvFon3jRTwLHj3Vbw0HfnMCI313h6iEBkejZTLB3--jl3TgS2Z0gPaGfNK0KtTXZfWAH63LHgkc2vRnwUo%7E2GMeGqu1GbeFXFOfXUm1TPuri24QXWlQs%7EnEMzQK5Hz5qxMnoZgYnnWUMktJBHk5zA18-Gc2yvZM%7EKuIp%7EEkndBg7NBTKyI0F7tLbNUdk6SLX967xIR1imIboaLcgH7xvPsTRTQVII7nWZ8g__&Key-Pair-Id=K24J24Z295AEI9\n",
      "\u001b[35m[\u001b[0m#07ba3e 4.6GiB/4.6GiB\u001b[36m(99%)\u001b[0m CN:7 DL:\u001b[32m134MiB\u001b[0m\u001b[35m]\u001b[0m\u001b[0m0m\u001b[35m]\u001b[0m\u001b[0mm\n",
      "11/26 08:50:17 [\u001b[1;32mNOTICE\u001b[0m] Download complete: ./model-00002-of-00003.safetensors\n",
      "\n",
      "Download Results:\n",
      "gid   |stat|avg speed  |path/URI\n",
      "======+====+===========+=======================================================\n",
      "07ba3e|\u001b[1;32mOK\u001b[0m  |   170MiB/s|./model-00002-of-00003.safetensors\n",
      "\n",
      "Status Legend:\n",
      "(OK):download completed.\n",
      "Downloaded https://huggingface.co/mistralai/Mistral-7B-Instruct-v0.2/resolve/main/model-00002-of-00003.safetensors successfully.\n",
      "\n",
      "11/26 08:50:17 [\u001b[1;32mNOTICE\u001b[0m] Downloading 1 item(s)\n",
      "\n",
      "11/26 08:50:17 [\u001b[1;32mNOTICE\u001b[0m] CUID#7 - Redirecting to https://cdn-lfs-us-1.hf.co/repos/25/f2/25f242d117fa40b7cc0b5e85e97135c923bc5665bde4204e7fabadb99a561eab/5f86e15cb3ed9078e30ae6e72445e109d0e337d9cde59b9aeea4ce8e44e54a5d?response-content-disposition=inline%3B+filename*%3DUTF-8%27%27model-00003-of-00003.safetensors%3B+filename%3D%22model-00003-of-00003.safetensors%22%3B&Expires=1732870217&Policy=eyJTdGF0ZW1lbnQiOlt7IkNvbmRpdGlvbiI6eyJEYXRlTGVzc1RoYW4iOnsiQVdTOkVwb2NoVGltZSI6MTczMjg3MDIxN319LCJSZXNvdXJjZSI6Imh0dHBzOi8vY2RuLWxmcy11cy0xLmhmLmNvL3JlcG9zLzI1L2YyLzI1ZjI0MmQxMTdmYTQwYjdjYzBiNWU4NWU5NzEzNWM5MjNiYzU2NjViZGU0MjA0ZTdmYWJhZGI5OWE1NjFlYWIvNWY4NmUxNWNiM2VkOTA3OGUzMGFlNmU3MjQ0NWUxMDlkMGUzMzdkOWNkZTU5YjlhZWVhNGNlOGU0NGU1NGE1ZD9yZXNwb25zZS1jb250ZW50LWRpc3Bvc2l0aW9uPSoifV19&Signature=hgGKkY-iRDjofxG00-uc7pw3XdgdN0l7LFFbXHZBOJecWceRNXbJyffurru35wQ8hH3AfAAmCi75pB9DdJdwfT7UHTiAQSP3aI81O8MkK8AS4E9iZwNVcnW7p4XcgsTXPNiCbT4JalzpXLl%7EV1YW13cf4SaOccPMAf5VcSl6q1unXdLdwDOdYU4Kv%7Eb4Qtl-J4ydYk8LLBk8Lv3VeQlrbc1rV9CsmXjlSty0xDFP4VIYxqY04KRWR%7EnO7bdzDluQoeSlIPkK8L2gIt5ZnUk3T5ezlDmt-T%7Exv2CbSE6udu4cJBw7KwTW1OZMGn1jRYxz5VUF87Te24ikDrVDsD-ycA__&Key-Pair-Id=K24J24Z295AEI9\n",
      "\n",
      "11/26 08:50:17 [\u001b[1;32mNOTICE\u001b[0m] CUID#9 - Redirecting to https://cdn-lfs-us-1.hf.co/repos/25/f2/25f242d117fa40b7cc0b5e85e97135c923bc5665bde4204e7fabadb99a561eab/5f86e15cb3ed9078e30ae6e72445e109d0e337d9cde59b9aeea4ce8e44e54a5d?response-content-disposition=inline%3B+filename*%3DUTF-8%27%27model-00003-of-00003.safetensors%3B+filename%3D%22model-00003-of-00003.safetensors%22%3B&Expires=1732870217&Policy=eyJTdGF0ZW1lbnQiOlt7IkNvbmRpdGlvbiI6eyJEYXRlTGVzc1RoYW4iOnsiQVdTOkVwb2NoVGltZSI6MTczMjg3MDIxN319LCJSZXNvdXJjZSI6Imh0dHBzOi8vY2RuLWxmcy11cy0xLmhmLmNvL3JlcG9zLzI1L2YyLzI1ZjI0MmQxMTdmYTQwYjdjYzBiNWU4NWU5NzEzNWM5MjNiYzU2NjViZGU0MjA0ZTdmYWJhZGI5OWE1NjFlYWIvNWY4NmUxNWNiM2VkOTA3OGUzMGFlNmU3MjQ0NWUxMDlkMGUzMzdkOWNkZTU5YjlhZWVhNGNlOGU0NGU1NGE1ZD9yZXNwb25zZS1jb250ZW50LWRpc3Bvc2l0aW9uPSoifV19&Signature=hgGKkY-iRDjofxG00-uc7pw3XdgdN0l7LFFbXHZBOJecWceRNXbJyffurru35wQ8hH3AfAAmCi75pB9DdJdwfT7UHTiAQSP3aI81O8MkK8AS4E9iZwNVcnW7p4XcgsTXPNiCbT4JalzpXLl%7EV1YW13cf4SaOccPMAf5VcSl6q1unXdLdwDOdYU4Kv%7Eb4Qtl-J4ydYk8LLBk8Lv3VeQlrbc1rV9CsmXjlSty0xDFP4VIYxqY04KRWR%7EnO7bdzDluQoeSlIPkK8L2gIt5ZnUk3T5ezlDmt-T%7Exv2CbSE6udu4cJBw7KwTW1OZMGn1jRYxz5VUF87Te24ikDrVDsD-ycA__&Key-Pair-Id=K24J24Z295AEI9\n",
      "\n",
      "11/26 08:50:17 [\u001b[1;32mNOTICE\u001b[0m] CUID#13 - Redirecting to https://cdn-lfs-us-1.hf.co/repos/25/f2/25f242d117fa40b7cc0b5e85e97135c923bc5665bde4204e7fabadb99a561eab/5f86e15cb3ed9078e30ae6e72445e109d0e337d9cde59b9aeea4ce8e44e54a5d?response-content-disposition=inline%3B+filename*%3DUTF-8%27%27model-00003-of-00003.safetensors%3B+filename%3D%22model-00003-of-00003.safetensors%22%3B&Expires=1732870217&Policy=eyJTdGF0ZW1lbnQiOlt7IkNvbmRpdGlvbiI6eyJEYXRlTGVzc1RoYW4iOnsiQVdTOkVwb2NoVGltZSI6MTczMjg3MDIxN319LCJSZXNvdXJjZSI6Imh0dHBzOi8vY2RuLWxmcy11cy0xLmhmLmNvL3JlcG9zLzI1L2YyLzI1ZjI0MmQxMTdmYTQwYjdjYzBiNWU4NWU5NzEzNWM5MjNiYzU2NjViZGU0MjA0ZTdmYWJhZGI5OWE1NjFlYWIvNWY4NmUxNWNiM2VkOTA3OGUzMGFlNmU3MjQ0NWUxMDlkMGUzMzdkOWNkZTU5YjlhZWVhNGNlOGU0NGU1NGE1ZD9yZXNwb25zZS1jb250ZW50LWRpc3Bvc2l0aW9uPSoifV19&Signature=hgGKkY-iRDjofxG00-uc7pw3XdgdN0l7LFFbXHZBOJecWceRNXbJyffurru35wQ8hH3AfAAmCi75pB9DdJdwfT7UHTiAQSP3aI81O8MkK8AS4E9iZwNVcnW7p4XcgsTXPNiCbT4JalzpXLl%7EV1YW13cf4SaOccPMAf5VcSl6q1unXdLdwDOdYU4Kv%7Eb4Qtl-J4ydYk8LLBk8Lv3VeQlrbc1rV9CsmXjlSty0xDFP4VIYxqY04KRWR%7EnO7bdzDluQoeSlIPkK8L2gIt5ZnUk3T5ezlDmt-T%7Exv2CbSE6udu4cJBw7KwTW1OZMGn1jRYxz5VUF87Te24ikDrVDsD-ycA__&Key-Pair-Id=K24J24Z295AEI9\n",
      "\n",
      "11/26 08:50:17 [\u001b[1;32mNOTICE\u001b[0m] CUID#14 - Redirecting to https://cdn-lfs-us-1.hf.co/repos/25/f2/25f242d117fa40b7cc0b5e85e97135c923bc5665bde4204e7fabadb99a561eab/5f86e15cb3ed9078e30ae6e72445e109d0e337d9cde59b9aeea4ce8e44e54a5d?response-content-disposition=inline%3B+filename*%3DUTF-8%27%27model-00003-of-00003.safetensors%3B+filename%3D%22model-00003-of-00003.safetensors%22%3B&Expires=1732870217&Policy=eyJTdGF0ZW1lbnQiOlt7IkNvbmRpdGlvbiI6eyJEYXRlTGVzc1RoYW4iOnsiQVdTOkVwb2NoVGltZSI6MTczMjg3MDIxN319LCJSZXNvdXJjZSI6Imh0dHBzOi8vY2RuLWxmcy11cy0xLmhmLmNvL3JlcG9zLzI1L2YyLzI1ZjI0MmQxMTdmYTQwYjdjYzBiNWU4NWU5NzEzNWM5MjNiYzU2NjViZGU0MjA0ZTdmYWJhZGI5OWE1NjFlYWIvNWY4NmUxNWNiM2VkOTA3OGUzMGFlNmU3MjQ0NWUxMDlkMGUzMzdkOWNkZTU5YjlhZWVhNGNlOGU0NGU1NGE1ZD9yZXNwb25zZS1jb250ZW50LWRpc3Bvc2l0aW9uPSoifV19&Signature=hgGKkY-iRDjofxG00-uc7pw3XdgdN0l7LFFbXHZBOJecWceRNXbJyffurru35wQ8hH3AfAAmCi75pB9DdJdwfT7UHTiAQSP3aI81O8MkK8AS4E9iZwNVcnW7p4XcgsTXPNiCbT4JalzpXLl%7EV1YW13cf4SaOccPMAf5VcSl6q1unXdLdwDOdYU4Kv%7Eb4Qtl-J4ydYk8LLBk8Lv3VeQlrbc1rV9CsmXjlSty0xDFP4VIYxqY04KRWR%7EnO7bdzDluQoeSlIPkK8L2gIt5ZnUk3T5ezlDmt-T%7Exv2CbSE6udu4cJBw7KwTW1OZMGn1jRYxz5VUF87Te24ikDrVDsD-ycA__&Key-Pair-Id=K24J24Z295AEI9\n",
      "\n",
      "11/26 08:50:17 [\u001b[1;32mNOTICE\u001b[0m] CUID#12 - Redirecting to https://cdn-lfs-us-1.hf.co/repos/25/f2/25f242d117fa40b7cc0b5e85e97135c923bc5665bde4204e7fabadb99a561eab/5f86e15cb3ed9078e30ae6e72445e109d0e337d9cde59b9aeea4ce8e44e54a5d?response-content-disposition=inline%3B+filename*%3DUTF-8%27%27model-00003-of-00003.safetensors%3B+filename%3D%22model-00003-of-00003.safetensors%22%3B&Expires=1732870095&Policy=eyJTdGF0ZW1lbnQiOlt7IkNvbmRpdGlvbiI6eyJEYXRlTGVzc1RoYW4iOnsiQVdTOkVwb2NoVGltZSI6MTczMjg3MDA5NX19LCJSZXNvdXJjZSI6Imh0dHBzOi8vY2RuLWxmcy11cy0xLmhmLmNvL3JlcG9zLzI1L2YyLzI1ZjI0MmQxMTdmYTQwYjdjYzBiNWU4NWU5NzEzNWM5MjNiYzU2NjViZGU0MjA0ZTdmYWJhZGI5OWE1NjFlYWIvNWY4NmUxNWNiM2VkOTA3OGUzMGFlNmU3MjQ0NWUxMDlkMGUzMzdkOWNkZTU5YjlhZWVhNGNlOGU0NGU1NGE1ZD9yZXNwb25zZS1jb250ZW50LWRpc3Bvc2l0aW9uPSoifV19&Signature=ag1QqHUlC04n15xESkwxUenZATeXu5AmX7aXLGg-Y8pECXw5Ie4F0N5QrQt9P%7E2L9HJ31zMLR8u98zaqBKHIP9aF8hmlRwHo0CCZrrDyt4H9o%7E7iaBH3M80CfXsCIlQyt9dpcp7UklZ9GAFXASzUqrCqRpgjgo3DbCRDxq7qvMv6SQGfQfyJSm40FiLIQDZmYvSO-kzbFItZ8iI-RjZWzs%7E47-yoit2D2BUGZhhJ2VegiRiNk-qJ9oxVNlF6I18dkskEekDldK%7EN7qLgPkpqP9GCFvTo8Xb42soHLSWQGcosHAiSqUyurddFv5sSFSxLbDWe4IvuEdEzoVpSnPa3hA__&Key-Pair-Id=K24J24Z295AEI9\n",
      "\n",
      "11/26 08:50:17 [\u001b[1;32mNOTICE\u001b[0m] CUID#10 - Redirecting to https://cdn-lfs-us-1.hf.co/repos/25/f2/25f242d117fa40b7cc0b5e85e97135c923bc5665bde4204e7fabadb99a561eab/5f86e15cb3ed9078e30ae6e72445e109d0e337d9cde59b9aeea4ce8e44e54a5d?response-content-disposition=inline%3B+filename*%3DUTF-8%27%27model-00003-of-00003.safetensors%3B+filename%3D%22model-00003-of-00003.safetensors%22%3B&Expires=1732870217&Policy=eyJTdGF0ZW1lbnQiOlt7IkNvbmRpdGlvbiI6eyJEYXRlTGVzc1RoYW4iOnsiQVdTOkVwb2NoVGltZSI6MTczMjg3MDIxN319LCJSZXNvdXJjZSI6Imh0dHBzOi8vY2RuLWxmcy11cy0xLmhmLmNvL3JlcG9zLzI1L2YyLzI1ZjI0MmQxMTdmYTQwYjdjYzBiNWU4NWU5NzEzNWM5MjNiYzU2NjViZGU0MjA0ZTdmYWJhZGI5OWE1NjFlYWIvNWY4NmUxNWNiM2VkOTA3OGUzMGFlNmU3MjQ0NWUxMDlkMGUzMzdkOWNkZTU5YjlhZWVhNGNlOGU0NGU1NGE1ZD9yZXNwb25zZS1jb250ZW50LWRpc3Bvc2l0aW9uPSoifV19&Signature=hgGKkY-iRDjofxG00-uc7pw3XdgdN0l7LFFbXHZBOJecWceRNXbJyffurru35wQ8hH3AfAAmCi75pB9DdJdwfT7UHTiAQSP3aI81O8MkK8AS4E9iZwNVcnW7p4XcgsTXPNiCbT4JalzpXLl%7EV1YW13cf4SaOccPMAf5VcSl6q1unXdLdwDOdYU4Kv%7Eb4Qtl-J4ydYk8LLBk8Lv3VeQlrbc1rV9CsmXjlSty0xDFP4VIYxqY04KRWR%7EnO7bdzDluQoeSlIPkK8L2gIt5ZnUk3T5ezlDmt-T%7Exv2CbSE6udu4cJBw7KwTW1OZMGn1jRYxz5VUF87Te24ikDrVDsD-ycA__&Key-Pair-Id=K24J24Z295AEI9\n",
      "\n",
      "11/26 08:50:17 [\u001b[1;32mNOTICE\u001b[0m] CUID#15 - Redirecting to https://cdn-lfs-us-1.hf.co/repos/25/f2/25f242d117fa40b7cc0b5e85e97135c923bc5665bde4204e7fabadb99a561eab/5f86e15cb3ed9078e30ae6e72445e109d0e337d9cde59b9aeea4ce8e44e54a5d?response-content-disposition=inline%3B+filename*%3DUTF-8%27%27model-00003-of-00003.safetensors%3B+filename%3D%22model-00003-of-00003.safetensors%22%3B&Expires=1732870217&Policy=eyJTdGF0ZW1lbnQiOlt7IkNvbmRpdGlvbiI6eyJEYXRlTGVzc1RoYW4iOnsiQVdTOkVwb2NoVGltZSI6MTczMjg3MDIxN319LCJSZXNvdXJjZSI6Imh0dHBzOi8vY2RuLWxmcy11cy0xLmhmLmNvL3JlcG9zLzI1L2YyLzI1ZjI0MmQxMTdmYTQwYjdjYzBiNWU4NWU5NzEzNWM5MjNiYzU2NjViZGU0MjA0ZTdmYWJhZGI5OWE1NjFlYWIvNWY4NmUxNWNiM2VkOTA3OGUzMGFlNmU3MjQ0NWUxMDlkMGUzMzdkOWNkZTU5YjlhZWVhNGNlOGU0NGU1NGE1ZD9yZXNwb25zZS1jb250ZW50LWRpc3Bvc2l0aW9uPSoifV19&Signature=hgGKkY-iRDjofxG00-uc7pw3XdgdN0l7LFFbXHZBOJecWceRNXbJyffurru35wQ8hH3AfAAmCi75pB9DdJdwfT7UHTiAQSP3aI81O8MkK8AS4E9iZwNVcnW7p4XcgsTXPNiCbT4JalzpXLl%7EV1YW13cf4SaOccPMAf5VcSl6q1unXdLdwDOdYU4Kv%7Eb4Qtl-J4ydYk8LLBk8Lv3VeQlrbc1rV9CsmXjlSty0xDFP4VIYxqY04KRWR%7EnO7bdzDluQoeSlIPkK8L2gIt5ZnUk3T5ezlDmt-T%7Exv2CbSE6udu4cJBw7KwTW1OZMGn1jRYxz5VUF87Te24ikDrVDsD-ycA__&Key-Pair-Id=K24J24Z295AEI9\n",
      "\n",
      "11/26 08:50:17 [\u001b[1;32mNOTICE\u001b[0m] CUID#11 - Redirecting to https://cdn-lfs-us-1.hf.co/repos/25/f2/25f242d117fa40b7cc0b5e85e97135c923bc5665bde4204e7fabadb99a561eab/5f86e15cb3ed9078e30ae6e72445e109d0e337d9cde59b9aeea4ce8e44e54a5d?response-content-disposition=inline%3B+filename*%3DUTF-8%27%27model-00003-of-00003.safetensors%3B+filename%3D%22model-00003-of-00003.safetensors%22%3B&Expires=1732868966&Policy=eyJTdGF0ZW1lbnQiOlt7IkNvbmRpdGlvbiI6eyJEYXRlTGVzc1RoYW4iOnsiQVdTOkVwb2NoVGltZSI6MTczMjg2ODk2Nn19LCJSZXNvdXJjZSI6Imh0dHBzOi8vY2RuLWxmcy11cy0xLmhmLmNvL3JlcG9zLzI1L2YyLzI1ZjI0MmQxMTdmYTQwYjdjYzBiNWU4NWU5NzEzNWM5MjNiYzU2NjViZGU0MjA0ZTdmYWJhZGI5OWE1NjFlYWIvNWY4NmUxNWNiM2VkOTA3OGUzMGFlNmU3MjQ0NWUxMDlkMGUzMzdkOWNkZTU5YjlhZWVhNGNlOGU0NGU1NGE1ZD9yZXNwb25zZS1jb250ZW50LWRpc3Bvc2l0aW9uPSoifV19&Signature=FAGBg%7ETBcOto%7EAgsj2pXx8ZysJ-srv-i9WkDaMTPplaaiQG9zKsEj9HIQiktpr4XpabpKEiw0GCEqhug3jLJm3T%7E-oeKg3nqYCDg-Glo0dOu8l2Gg-qMxlotT5qS1p-gVU7kNh3wEnGU83G6l0HPmuaMZ-FrHUbmSjN8Hz8URBv2xbWKNAPC6p3nCoBF5SDJ16oDFaEPNQI1Gv8oFFtt19B-r-2dZUCbPKyQ-3n5j-cUgX2FJZoWlSfAIIZXviGZQGqSHGOEvuVq3D1AaYuDvT2yScLTDBc2a%7EFt2yHGEgfeD3RxNn%7EjpFF7gmTmW5zp1sg9u-FWuXjybUGlcNhrwQ__&Key-Pair-Id=K24J24Z295AEI9\n",
      "\u001b[35m[\u001b[0m#961c70 4.2GiB/4.2GiB\u001b[36m(99%)\u001b[0m CN:8 DL:\u001b[32m132MiB\u001b[0m\u001b[35m]\u001b[0m\u001b[0m0m\u001b[35m]\u001b[0m\u001b[0mm\n",
      "11/26 08:50:56 [\u001b[1;32mNOTICE\u001b[0m] Download complete: ./model-00003-of-00003.safetensors\n",
      "\n",
      "Download Results:\n",
      "gid   |stat|avg speed  |path/URI\n",
      "======+====+===========+=======================================================\n",
      "961c70|\u001b[1;32mOK\u001b[0m  |   174MiB/s|./model-00003-of-00003.safetensors\n",
      "\n",
      "Status Legend:\n",
      "(OK):download completed.\n",
      "Downloaded https://huggingface.co/mistralai/Mistral-7B-Instruct-v0.2/resolve/main/model-00003-of-00003.safetensors successfully.\n",
      "\n",
      "11/26 08:50:56 [\u001b[1;32mNOTICE\u001b[0m] Downloading 1 item(s)\n",
      "\n",
      "11/26 08:50:56 [\u001b[1;32mNOTICE\u001b[0m] CUID#7 - Redirecting to https://cdn-lfs-us-1.hf.co/repos/25/f2/25f242d117fa40b7cc0b5e85e97135c923bc5665bde4204e7fabadb99a561eab/dadfd56d766715c61d2ef780a525ab43b8e6da4de6865bda3d95fdef5e134055?response-content-disposition=inline%3B+filename*%3DUTF-8%27%27tokenizer.model%3B+filename%3D%22tokenizer.model%22%3B&Expires=1732869380&Policy=eyJTdGF0ZW1lbnQiOlt7IkNvbmRpdGlvbiI6eyJEYXRlTGVzc1RoYW4iOnsiQVdTOkVwb2NoVGltZSI6MTczMjg2OTM4MH19LCJSZXNvdXJjZSI6Imh0dHBzOi8vY2RuLWxmcy11cy0xLmhmLmNvL3JlcG9zLzI1L2YyLzI1ZjI0MmQxMTdmYTQwYjdjYzBiNWU4NWU5NzEzNWM5MjNiYzU2NjViZGU0MjA0ZTdmYWJhZGI5OWE1NjFlYWIvZGFkZmQ1NmQ3NjY3MTVjNjFkMmVmNzgwYTUyNWFiNDNiOGU2ZGE0ZGU2ODY1YmRhM2Q5NWZkZWY1ZTEzNDA1NT9yZXNwb25zZS1jb250ZW50LWRpc3Bvc2l0aW9uPSoifV19&Signature=NGWmX8qoDQsXWGuprPhEGTetby263gm74GMgj8AaQlPY9nbpOP%7EJAjU9wfOVM5aHm6wJTiqm9PhDTOTt56R2kRkmUF7apJQcn81umvVhAAFTlBtWQZLQeoNRRJev6qBokHH3pgwu%7E730Nc83q0N-tdOvm0s8sKPad1enYyLYjN%7E86n%7Ez%7ENKe7BUDa%7EvaM19zQJDOof0-bj6BgCY97Vn21xyq4F07i8AnD1bhiny1T5I9l7ZIBIreKm12KUr0N6c8cZIl9rxA%7EWnPS6vnAc1M9CAofVPcoMqVrZkBE9hA6rz-bFRVLdyhw1A1AUQrVGc7eA7tWHUP%7Ei91MG6-PprcHg__&Key-Pair-Id=K24J24Z295AEI9\n",
      "\n",
      "11/26 08:50:56 [\u001b[1;32mNOTICE\u001b[0m] Download complete: ./tokenizer.model\n",
      "\n",
      "Download Results:\n",
      "gid   |stat|avg speed  |path/URI\n",
      "======+====+===========+=======================================================\n",
      "94cadb|\u001b[1;32mOK\u001b[0m  |    18MiB/s|./tokenizer.model\n",
      "\n",
      "Status Legend:\n",
      "(OK):download completed.\n",
      "Downloaded https://huggingface.co/mistralai/Mistral-7B-Instruct-v0.2/resolve/main/tokenizer.model successfully.\n",
      "\u001b[0;32mDownload completed successfully.\n",
      "\u001b[0m"
     ]
    }
   ],
   "source": [
    "# !git clone https://huggingface.co/mistralai/Mistral-7B-Instruct-v0.2\n",
    "!hfd mistralai/Mistral-7B-Instruct-v0.2 --exclude .bin --hf_username $HF_USERNAME --hf_token $HF_TOKEN --tool aria2c -x 8"
   ]
  },
  {
   "cell_type": "markdown",
   "metadata": {},
   "source": [
    "## Helper functions for upload"
   ]
  },
  {
   "cell_type": "code",
   "execution_count": 3,
   "metadata": {
    "tags": []
   },
   "outputs": [],
   "source": [
    "import os\n",
    "import boto3\n",
    "import botocore\n",
    "\n",
    "aws_access_key_id = os.environ.get('AWS_ACCESS_KEY_ID')\n",
    "aws_secret_access_key = os.environ.get('AWS_SECRET_ACCESS_KEY')\n",
    "endpoint_url = os.environ.get('AWS_S3_ENDPOINT')\n",
    "region_name = os.environ.get('AWS_DEFAULT_REGION')\n",
    "bucket_name = os.environ.get('AWS_S3_BUCKET')\n",
    "\n",
    "session = boto3.session.Session(aws_access_key_id=aws_access_key_id,\n",
    "                                aws_secret_access_key=aws_secret_access_key)\n",
    "\n",
    "s3_resource = session.resource(\n",
    "    's3',\n",
    "    config=botocore.client.Config(signature_version='s3v4'),\n",
    "    endpoint_url=endpoint_url,\n",
    "    region_name=region_name)\n",
    "\n",
    "bucket = s3_resource.Bucket(bucket_name)\n",
    "\n",
    "#upload the model directory without git\n",
    "def upload_directory_to_s3(local_directory, s3_prefix):\n",
    "    for root, dirs, files in os.walk(local_directory):\n",
    "        for filename in files:\n",
    "            file_path = os.path.join(root, filename)\n",
    "            relative_path = os.path.relpath(file_path, local_directory)\n",
    "            if \".git\" in relative_path:\n",
    "                continue\n",
    "            s3_key = os.path.join(s3_prefix, relative_path)\n",
    "            print(f\"{file_path} -> {s3_key}\")\n",
    "            bucket.upload_file(file_path, s3_key)\n",
    "\n",
    "\n",
    "def list_objects(prefix):\n",
    "    filter = bucket.objects.filter(Prefix=prefix)\n",
    "    for obj in filter.all():\n",
    "        print(obj.key)"
   ]
  },
  {
   "cell_type": "markdown",
   "metadata": {
    "tags": []
   },
   "source": [
    "## Check the Storage Bucket\n",
    "\n",
    "In your S3 bucket, under the `models` upload prefix, run the `list_object` command. As best practice, to avoid mixing up model files, keep only one model and its required files in a given prefix or directory. This practice allows you to download and serve a directory with all the files that a model requires. \n",
    "\n",
    "If this is the first time running the code, this cell will have no output or the fraud model from the predictive AI/ML exercise.\n"
   ]
  },
  {
   "cell_type": "code",
   "execution_count": 4,
   "metadata": {
    "tags": []
   },
   "outputs": [
    {
     "name": "stdout",
     "output_type": "stream",
     "text": [
      "models/Mistral-7B-Instruct-v0.2/README.md\n",
      "models/Mistral-7B-Instruct-v0.2/config.json\n",
      "models/Mistral-7B-Instruct-v0.2/generation_config.json\n",
      "models/Mistral-7B-Instruct-v0.2/model-00001-of-00003.safetensors\n",
      "models/Mistral-7B-Instruct-v0.2/model-00002-of-00003.safetensors\n",
      "models/Mistral-7B-Instruct-v0.2/model-00003-of-00003.safetensors\n",
      "models/Mistral-7B-Instruct-v0.2/model.safetensors.index.json\n",
      "models/Mistral-7B-Instruct-v0.2/pytorch_model-00001-of-00003.bin\n",
      "models/Mistral-7B-Instruct-v0.2/pytorch_model-00002-of-00003.bin\n",
      "models/Mistral-7B-Instruct-v0.2/pytorch_model-00003-of-00003.bin\n",
      "models/Mistral-7B-Instruct-v0.2/pytorch_model.bin.index.json\n",
      "models/Mistral-7B-Instruct-v0.2/special_tokens_map.json\n",
      "models/Mistral-7B-Instruct-v0.2/tokenizer.json\n",
      "models/Mistral-7B-Instruct-v0.2/tokenizer.model\n",
      "models/Mistral-7B-Instruct-v0.2/tokenizer_config.json\n"
     ]
    }
   ],
   "source": [
    "list_objects(\"models\")"
   ]
  },
  {
   "cell_type": "markdown",
   "metadata": {
    "tags": []
   },
   "source": [
    "## Upload and check again"
   ]
  },
  {
   "cell_type": "code",
   "execution_count": 5,
   "metadata": {
    "tags": []
   },
   "outputs": [
    {
     "name": "stdout",
     "output_type": "stream",
     "text": [
      "Mistral-7B-Instruct-v0.2/README.md -> models/Mistral-7B-Instruct-v0.2/README.md\n",
      "Mistral-7B-Instruct-v0.2/model-00003-of-00003.safetensors -> models/Mistral-7B-Instruct-v0.2/model-00003-of-00003.safetensors\n",
      "Mistral-7B-Instruct-v0.2/model.safetensors.index.json -> models/Mistral-7B-Instruct-v0.2/model.safetensors.index.json\n",
      "Mistral-7B-Instruct-v0.2/model-00001-of-00003.safetensors -> models/Mistral-7B-Instruct-v0.2/model-00001-of-00003.safetensors\n",
      "Mistral-7B-Instruct-v0.2/pytorch_model-00002-of-00003.bin -> models/Mistral-7B-Instruct-v0.2/pytorch_model-00002-of-00003.bin\n",
      "Mistral-7B-Instruct-v0.2/special_tokens_map.json -> models/Mistral-7B-Instruct-v0.2/special_tokens_map.json\n",
      "Mistral-7B-Instruct-v0.2/tokenizer.model -> models/Mistral-7B-Instruct-v0.2/tokenizer.model\n",
      "Mistral-7B-Instruct-v0.2/pytorch_model.bin.index.json -> models/Mistral-7B-Instruct-v0.2/pytorch_model.bin.index.json\n",
      "Mistral-7B-Instruct-v0.2/tokenizer.json -> models/Mistral-7B-Instruct-v0.2/tokenizer.json\n",
      "Mistral-7B-Instruct-v0.2/generation_config.json -> models/Mistral-7B-Instruct-v0.2/generation_config.json\n",
      "Mistral-7B-Instruct-v0.2/config.json -> models/Mistral-7B-Instruct-v0.2/config.json\n",
      "Mistral-7B-Instruct-v0.2/tokenizer_config.json -> models/Mistral-7B-Instruct-v0.2/tokenizer_config.json\n",
      "Mistral-7B-Instruct-v0.2/pytorch_model-00001-of-00003.bin -> models/Mistral-7B-Instruct-v0.2/pytorch_model-00001-of-00003.bin\n",
      "Mistral-7B-Instruct-v0.2/model-00002-of-00003.safetensors -> models/Mistral-7B-Instruct-v0.2/model-00002-of-00003.safetensors\n",
      "Mistral-7B-Instruct-v0.2/pytorch_model-00003-of-00003.bin -> models/Mistral-7B-Instruct-v0.2/pytorch_model-00003-of-00003.bin\n"
     ]
    }
   ],
   "source": [
    "upload_directory_to_s3(\"Mistral-7B-Instruct-v0.2\", \"models/Mistral-7B-Instruct-v0.2\")"
   ]
  },
  {
   "cell_type": "markdown",
   "metadata": {
    "tags": []
   },
   "source": [
    "To confirm this worked, run the `list_objects` function again:"
   ]
  },
  {
   "cell_type": "markdown",
   "metadata": {},
   "source": [
    "Use the function to upload the `models` folder in a rescursive fashion:"
   ]
  },
  {
   "cell_type": "code",
   "execution_count": 6,
   "metadata": {
    "tags": []
   },
   "outputs": [
    {
     "name": "stdout",
     "output_type": "stream",
     "text": [
      "models/Mistral-7B-Instruct-v0.2/README.md\n",
      "models/Mistral-7B-Instruct-v0.2/config.json\n",
      "models/Mistral-7B-Instruct-v0.2/generation_config.json\n",
      "models/Mistral-7B-Instruct-v0.2/model-00001-of-00003.safetensors\n",
      "models/Mistral-7B-Instruct-v0.2/model-00002-of-00003.safetensors\n",
      "models/Mistral-7B-Instruct-v0.2/model-00003-of-00003.safetensors\n",
      "models/Mistral-7B-Instruct-v0.2/model.safetensors.index.json\n",
      "models/Mistral-7B-Instruct-v0.2/pytorch_model-00001-of-00003.bin\n",
      "models/Mistral-7B-Instruct-v0.2/pytorch_model-00002-of-00003.bin\n",
      "models/Mistral-7B-Instruct-v0.2/pytorch_model-00003-of-00003.bin\n",
      "models/Mistral-7B-Instruct-v0.2/pytorch_model.bin.index.json\n",
      "models/Mistral-7B-Instruct-v0.2/special_tokens_map.json\n",
      "models/Mistral-7B-Instruct-v0.2/tokenizer.json\n",
      "models/Mistral-7B-Instruct-v0.2/tokenizer.model\n",
      "models/Mistral-7B-Instruct-v0.2/tokenizer_config.json\n"
     ]
    }
   ],
   "source": [
    "list_objects(\"models\")"
   ]
  },
  {
   "cell_type": "markdown",
   "metadata": {},
   "source": [
    "Push to Model Registry"
   ]
  },
  {
   "cell_type": "code",
   "execution_count": null,
   "metadata": {},
   "outputs": [],
   "source": [
    "!pip install model-registry==\"0.2.14\"\n",
    "#!pip install kserve==\"0.13\"\n",
    "\n",
    "from model_registry import ModelRegistry"
   ]
  },
  {
   "cell_type": "code",
   "execution_count": null,
   "metadata": {},
   "outputs": [],
   "source": [
    "# grab the url from the annotations in service\n",
    "\n",
    "registry = ModelRegistry(\n",
    "    server_address=\"https://test-rest.apps.cluster-rr2bp.rr2bp.sandbox199.opentlc.com\",\n",
    "    author=\"test\"\n",
    ")"
   ]
  },
  {
   "cell_type": "code",
   "execution_count": null,
   "metadata": {},
   "outputs": [],
   "source": [
    "rm = registry.register_model(\n",
    "    \"Mistral\",\n",
    "    \"minio-api-minio.apps.cluster-rr2bp.rr2bp.sandbox199.opentlc.com/models/models/Mistral-7B-Instruct-v0.2\",\n",
    "    model_format_name=\"sklearn\",\n",
    "    model_format_version=\"1\",\n",
    "    version=\"v1\",\n",
    "    description=\"Model for code Assistance\",\n",
    "    metadata={\n",
    "        \"accuracy\": 3.14,\n",
    "        \"license\": \"BSD 3-Clause License\",\n",
    "    }\n",
    ")"
   ]
  }
 ],
 "metadata": {
  "celltoolbar": "Raw Cell Format",
  "kernelspec": {
   "display_name": "Python 3.9",
   "language": "python",
   "name": "python3"
  },
  "language_info": {
   "codemirror_mode": {
    "name": "ipython",
    "version": 3
   },
   "file_extension": ".py",
   "mimetype": "text/x-python",
   "name": "python",
   "nbconvert_exporter": "python",
   "pygments_lexer": "ipython3",
   "version": "3.9.18"
  }
 },
 "nbformat": 4,
 "nbformat_minor": 4
}
